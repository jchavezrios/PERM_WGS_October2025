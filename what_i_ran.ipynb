{
 "cells": [
  {
   "cell_type": "markdown",
   "id": "9e408441",
   "metadata": {},
   "source": [
    "19Oct2025\n",
    "\n",
    "I decided to rerun the alignment since I thought it was suspicious that I had so many SNPs.\n",
    "\n",
    "\n",
    "I followed the UNR BioX pipeline again for the most part. \n",
    "\n",
    "link to pipeline --> https://biox.unr.edu/ftp/biox_robletolab_workshop/bioinformatics_material/wgs_mutation_calling.html"
   ]
  },
  {
   "cell_type": "markdown",
   "id": "a365748b",
   "metadata": {},
   "source": [
    "My goal was to use .gff and .fa this time, not the .gbk and .fa as I had last time."
   ]
  },
  {
   "cell_type": "markdown",
   "id": "3f10ac58",
   "metadata": {},
   "source": [
    "I was getting this error when trying to build the database since I had used symbolic links to refer to the genes.gff and sequences.fa files:"
   ]
  },
  {
   "cell_type": "raw",
   "id": "25b3c643",
   "metadata": {
    "vscode": {
     "languageId": "raw"
    }
   },
   "source": [
    "(base) jschavrios@SOP-44C7V3G-LT wgs_redo_19oct % ls data/strainPS832/\n",
    "genes.gff    sequences.fa\n",
    "(base) jschavrios@SOP-44C7V3G-LT wgs_redo_19oct % head data/strainPS832/sequences.fa\n",
    "head: data/strainPS832/sequences.fa: No such file or directory\n",
    "(base) jschavrios@SOP-44C7V3G-LT wgs_redo_19oct % cd data/strainPS832 \n",
    "(base) jschavrios@SOP-44C7V3G-LT strainPS832 % head genes.gff\n",
    "head: genes.gff: No such file or directory"
   ]
  },
  {
   "cell_type": "markdown",
   "id": "29c86647",
   "metadata": {},
   "source": [
    "Verified to see the correct headers:"
   ]
  },
  {
   "cell_type": "raw",
   "id": "f7923e7f",
   "metadata": {
    "vscode": {
     "languageId": "raw"
    }
   },
   "source": [
    "(base) jschavrios@SOP-44C7V3G-LT strainPS832 % ln ../../../ref/ncbi_dataset/ncbi_dataset/data/GCF_000789295.1/GCF_000789295.1_ASM78929v1_genomic.fna sequences.fa \n",
    "(base) jschavrios@SOP-44C7V3G-LT strainPS832 % ls\n",
    "sequences.fa\n",
    "(base) jschavrios@SOP-44C7V3G-LT strainPS832 % head sequences.fa \n",
    ">NZ_CP010053.1 Bacillus subtilis strain PS832 chromosome, complete genome\n",
    "ATCTTTTTCGGCTTTTTTTAGTATCCACAGAGGTTATCGACAACATTTTCACATTACCAACCCCTGTGGACAAGGTTTTT\n",
    "TCAACAGGTTGTCCGCTTTGTGGATAAGATTGTGACAACCATTGCAAGCTCTCGTTTATTTTGGTATTATATTTGTGTTT\n",
    "TAACTCTTGATTACTAATCCTACCTTTCCTCTTTATCCACAAAGTGTGGATAAGTTGTGGATTGATTTCACACAGCTTGT\n",
    "GTAGAAGGTTGTCCACAAGTTGTGAAATTTGTCGAAAAGCTATTTATCTACTATATTATATGTTTTCAACATTTAATGTG\n",
    "TACGAATGGTAAGCGCCATTTGCTCTTTTTTTGTGTTCTATAACAGAGAAAGACGCCATTTTCTAAGAAAAGGAGGGACG\n",
    "TGCCGGAAGATGGAAAATATATTAGACCTGTGGAACCAAGCCCTTGCTCAAATCGAAAAAAAGTTGAGCAAACCGAGTTT\n",
    "TGAGACTTGGATGAAGTCAACCAAAGCCCACTCACTGCAAGGCGATACATTAACAATCACGGCTCCCAATGAATTTGCCA\n",
    "GAGACTGGCTGGAGTCCAGATACTTGCATCTGATTGCAGATACTATATATGAATTAACCGGGGAAGAATTGAGCATTAAG\n",
    "TTTGTCATTCCTCAAAATCAAGATGTTGAGGACTTTATGCCGAAACCGCAAGTCAAAAAAGCGGTCAAAGAAGATACATC\n",
    "(base) jschavrios@SOP-44C7V3G-LT strainPS832 % ln ../../../ref/ncbi_dataset/ncbi_dataset/data/GCF_000789295.1/genomic.gff genes.gff\n",
    "(base) jschavrios@SOP-44C7V3G-LT strainPS832 % head genes.gff \n",
    "##gff-version 3\n",
    "#!gff-spec-version 1.21\n",
    "#!processor NCBI annotwriter\n",
    "#!genome-build ASM78929v1\n",
    "#!genome-build-accession NCBI_Assembly:GCF_000789295.1\n",
    "#!annotation-date 06/28/2025 09:23:00\n",
    "#!annotation-source NCBI RefSeq GCF_000789295.1-RS_2025_06_28\n",
    "##sequence-region NZ_CP010053.1 1 4215367\n",
    "##species https://www.ncbi.nlm.nih.gov/Taxonomy/Browser/wwwtax.cgi?id=1423\n",
    "NZ_CP010053.1\tRefSeq\tregion\t1\t4215367\t.\t+\t.\tID=NZ_CP010053.1:1..4215367;Dbxref=taxon:1423;Is_circular=true;Name=ANONYMOUS;gbkey=Src;genome=chromosome;mol_type=genomic DNA;strain=PS832"
   ]
  },
  {
   "cell_type": "markdown",
   "id": "497b115e",
   "metadata": {},
   "source": [
    "I also then kept getting this error when trying to build the database:"
   ]
  },
  {
   "cell_type": "raw",
   "id": "726e1afa",
   "metadata": {
    "vscode": {
     "languageId": "raw"
    }
   },
   "source": [
    "java.lang.NullPointerException: Cannot invoke \"String.length()\" because \"tag\" is null\n",
    "\tat org.snpeff.interval.Markers.merge(Markers.java:287)\n",
    "\tat org.snpeff.binseq.GenomicSequences.addGeneSequences(GenomicSequences.java:95)\n",
    "\tat org.snpeff.snpEffect.factory.SnpEffPredictorFactory.addSequences(SnpEffPredictorFactory.java:175)\n",
    "\tat org.snpeff.snpEffect.factory.SnpEffPredictorFactory.readExonSequences(SnpEffPredictorFactory.java:696)\n",
    "\tat org.snpeff.snpEffect.factory.SnpEffPredictorFactoryGff.readExonSequences(SnpEffPredictorFactoryGff.java:453)\n",
    "\tat org.snpeff.snpEffect.factory.SnpEffPredictorFactoryGff.create(SnpEffPredictorFactoryGff.java:350)\n",
    "\tat org.snpeff.snpEffect.commandLine.SnpEffCmdBuild.run(SnpEffCmdBuild.java:414)\n",
    "\tat org.snpeff.SnpEff.run(SnpEff.java:1173)\n",
    "\tat org.snpeff.SnpEff.main(SnpEff.java:163)\n",
    "java.lang.RuntimeException: Error reading file '/Users/jschavrios/Documents/robleto_UNLV/wgs_redo_19oct/data/strainPS832/genes.gff'\n",
    "java.lang.NullPointerException: Cannot invoke \"String.length()\" because \"tag\" is null\n",
    "\tat org.snpeff.snpEffect.factory.SnpEffPredictorFactoryGff.create(SnpEffPredictorFactoryGff.java:362)\n",
    "\tat org.snpeff.snpEffect.commandLine.SnpEffCmdBuild.run(SnpEffCmdBuild.java:414)\n",
    "\tat org.snpeff.SnpEff.run(SnpEff.java:1173)\n",
    "\tat org.snpeff.SnpEff.main(SnpEff.java:163)\n",
    "00:00:00 Done.\n"
   ]
  },
  {
   "cell_type": "markdown",
   "id": "a3dc20d6",
   "metadata": {},
   "source": [
    "I fixed it by using these two scripts to clean the FASTA file and the .gff file:\n",
    "\n",
    "clean_fasta.py\n",
    "clean-gff.py\n",
    "\n",
    "The original two files were replaced within the data/ folder used to build the PS832 genome database."
   ]
  },
  {
   "cell_type": "raw",
   "id": "6df5804d",
   "metadata": {
    "vscode": {
     "languageId": "raw"
    }
   },
   "source": [
    "#command ran to build database from my own directories\n",
    "\n",
    "(base) jschavrios@SOP-44C7V3G-LT wgs_redo_19oct % snpEff build -gff3 -c snpEff_19oct.config \\\n",
    "    -dataDir /Users/jschavrios/Documents/robleto_UNLV/wgs_redo_19oct/data \\\n",
    "    -v strainPS832 -noCheckCds -noCheckProtein\n"
   ]
  },
  {
   "cell_type": "markdown",
   "id": "4f063ff0",
   "metadata": {},
   "source": [
    "These were the resulting genome stats:"
   ]
  },
  {
   "cell_type": "raw",
   "id": "dc8ba116",
   "metadata": {
    "vscode": {
     "languageId": "raw"
    }
   },
   "source": [
    "00:00:00 Genome stats :\n",
    "#-----------------------------------------------\n",
    "# Genome name                : 'strainPS832'\n",
    "# Genome version             : 'strainPS832'\n",
    "# Genome ID                  : 'strainPS832[0]'\n",
    "# Has protein coding info    : true\n",
    "# Has Tr. Support Level info : true\n",
    "# Genes                      : 4553\n",
    "# Protein coding genes       : 4311\n",
    "#-----------------------------------------------\n",
    "# Transcripts                : 4432\n",
    "# Avg. transcripts per gene  : 0.97\n",
    "# TSL transcripts            : 0\n",
    "#-----------------------------------------------\n",
    "# Checked transcripts        : \n",
    "#               AA sequences :      0 ( 0.00% )\n",
    "#              DNA sequences :      0 ( 0.00% )\n",
    "#-----------------------------------------------\n",
    "# Protein coding transcripts : 4311\n",
    "#              Length errors :     26 ( 0.60% )\n",
    "#  STOP codons in CDS errors :     25 ( 0.58% )\n",
    "#         START codon errors :    998 ( 23.15% )\n",
    "#        STOP codon warnings :     12 ( 0.28% )\n",
    "#              UTR sequences :      0 ( 0.00% )\n",
    "#               Total Errors :   1013 ( 23.50% )\n",
    "# WARNING                    : No protein coding transcript has UTR\n",
    "#-----------------------------------------------\n",
    "# Cds                        : 4312\n",
    "# Exons                      : 4433\n",
    "# Exons with sequence        : 4433\n",
    "# Exons without sequence     : 0\n",
    "# Avg. exons per transcript  : 1.00\n",
    "#-----------------------------------------------\n",
    "# Number of chromosomes      : 1\n",
    "# Chromosomes                : Format 'chromo_name size codon_table'\n",
    "#\t\t'NZ_CP010053.1'\t4215367\tStandard\n",
    "#-----------------------------------------------\n",
    "\n"
   ]
  },
  {
   "cell_type": "markdown",
   "id": "fb9a8038",
   "metadata": {},
   "source": [
    "I ran both sample A (suppressor) and sample B (quadruple mutant). Received labeled A or B files for the snpeff genes snp list .txt file as well as the .html summary.\n",
    "\n",
    "After checking with the run on 13Sept2025 and today, 19Oct2025, the results are the exact same."
   ]
  },
  {
   "cell_type": "markdown",
   "id": "2bce8d5f",
   "metadata": {},
   "source": [
    "I decided then to continue working with the 13sept datasets I had generated since I had already done visualization with it. "
   ]
  },
  {
   "cell_type": "markdown",
   "id": "d20527d8",
   "metadata": {},
   "source": [
    "I used all of the .csv and .ann.vcf files generated that are uploaded. The .py scripts I included I used to parse through the annotated vcf files and generate figures. \n",
    "\n",
    "All .py scripts were initially made by ChatGPT and modified by me to fit the changes I wanted for each figure or way the data was to be displayed."
   ]
  }
 ],
 "metadata": {
  "kernelspec": {
   "display_name": "base",
   "language": "python",
   "name": "python3"
  },
  "language_info": {
   "codemirror_mode": {
    "name": "ipython",
    "version": 3
   },
   "file_extension": ".py",
   "mimetype": "text/x-python",
   "name": "python",
   "nbconvert_exporter": "python",
   "pygments_lexer": "ipython3",
   "version": "3.13.5"
  }
 },
 "nbformat": 4,
 "nbformat_minor": 5
}
